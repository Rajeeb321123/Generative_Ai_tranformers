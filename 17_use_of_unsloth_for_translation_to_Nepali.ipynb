{
 "cells": [
  {
   "cell_type": "markdown",
   "id": "161af13f-f689-4a2e-b8fe-463dbb147e31",
   "metadata": {},
   "source": [
    "# Packages"
   ]
  },
  {
   "cell_type": "code",
   "execution_count": 1,
   "id": "dde6def6-222e-4766-9f5b-5578729107d1",
   "metadata": {
    "tags": []
   },
   "outputs": [],
   "source": [
    "%%capture\n",
    "!pip install numpy==1.26.4\n",
    "!pip install torch==2.3.0 torchvision==0.18.0 torchaudio==2.3.0 --index-url https://download.pytorch.org/whl/cu121\n",
    "!pip install transformers\n",
    "# Installs Unsloth, Xformers (Flash Attention) and all other packages!\n",
    "!pip install \"unsloth[colab-new] @ git+https://github.com/unslothai/unsloth.git\"\n",
    "!pip install --no-deps \"xformers<0.0.27\" \"trl<0.9.0\" peft accelerate\n",
    "!pip install -U bitsandbytes\n",
    "!pip install pandas"
   ]
  },
  {
   "cell_type": "code",
   "execution_count": 2,
   "id": "0dd2d1a7-d696-40e3-9ba3-b5426aafb9f4",
   "metadata": {
    "tags": []
   },
   "outputs": [
    {
     "name": "stdout",
     "output_type": "stream",
     "text": [
      "CUDA version: 12.1\n",
      "PyTorch version: 2.3.0+cu121\n",
      "CUDA Device compute capability: 8.9\n"
     ]
    }
   ],
   "source": [
    "import torch\n",
    "# Determine CUDA version and Pytorch version\n",
    "cuda_version = torch.version.cuda\n",
    "pytorch_version = torch.__version__\n",
    "major_version, minor_version = torch.cuda.get_device_capability()\n",
    "print(f\"CUDA version: {cuda_version}\")\n",
    "print(f\"PyTorch version: {pytorch_version}\")\n",
    "print(f\"CUDA Device compute capability: {major_version}.{minor_version}\")"
   ]
  },
  {
   "cell_type": "code",
   "execution_count": 3,
   "id": "8001d3ce-0785-4af6-94a6-02f0ca3ee636",
   "metadata": {
    "tags": []
   },
   "outputs": [],
   "source": [
    "import os\n",
    "os.environ[\"TOKENIZERS_PARALLELISM\"] = \"false\""
   ]
  },
  {
   "cell_type": "markdown",
   "id": "43ec721d-898d-4e5c-87bb-91817d7ae7d2",
   "metadata": {},
   "source": [
    "# Load the Dataset"
   ]
  },
  {
   "cell_type": "code",
   "execution_count": 4,
   "id": "4859ede6-83b2-495a-9314-50cf9814f09e",
   "metadata": {
    "tags": []
   },
   "outputs": [
    {
     "data": {
      "application/vnd.jupyter.widget-view+json": {
       "model_id": "0b8548a768d74a93b70aa958115e6063",
       "version_major": 2,
       "version_minor": 0
      },
      "text/plain": [
       "Downloading readme:   0%|          | 0.00/6.27k [00:00<?, ?B/s]"
      ]
     },
     "metadata": {},
     "output_type": "display_data"
    },
    {
     "data": {
      "text/html": [
       "<div>\n",
       "<style scoped>\n",
       "    .dataframe tbody tr th:only-of-type {\n",
       "        vertical-align: middle;\n",
       "    }\n",
       "\n",
       "    .dataframe tbody tr th {\n",
       "        vertical-align: top;\n",
       "    }\n",
       "\n",
       "    .dataframe thead th {\n",
       "        text-align: right;\n",
       "    }\n",
       "</style>\n",
       "<table border=\"1\" class=\"dataframe\">\n",
       "  <thead>\n",
       "    <tr style=\"text-align: right;\">\n",
       "      <th></th>\n",
       "      <th>set</th>\n",
       "    </tr>\n",
       "  </thead>\n",
       "  <tbody>\n",
       "    <tr>\n",
       "      <th>0</th>\n",
       "      <td>{'query': 'Why in India do we not have one on ...</td>\n",
       "    </tr>\n",
       "    <tr>\n",
       "      <th>1</th>\n",
       "      <td>{'query': 'What is OnePlus One?', 'pos': ['How...</td>\n",
       "    </tr>\n",
       "    <tr>\n",
       "      <th>2</th>\n",
       "      <td>{'query': 'Does our mind control our emotions?...</td>\n",
       "    </tr>\n",
       "    <tr>\n",
       "      <th>3</th>\n",
       "      <td>{'query': 'What made Islam spread around the w...</td>\n",
       "    </tr>\n",
       "    <tr>\n",
       "      <th>4</th>\n",
       "      <td>{'query': 'What do people around the world typ...</td>\n",
       "    </tr>\n",
       "  </tbody>\n",
       "</table>\n",
       "</div>"
      ],
      "text/plain": [
       "                                                 set\n",
       "0  {'query': 'Why in India do we not have one on ...\n",
       "1  {'query': 'What is OnePlus One?', 'pos': ['How...\n",
       "2  {'query': 'Does our mind control our emotions?...\n",
       "3  {'query': 'What made Islam spread around the w...\n",
       "4  {'query': 'What do people around the world typ..."
      ]
     },
     "execution_count": 4,
     "metadata": {},
     "output_type": "execute_result"
    }
   ],
   "source": [
    "from datasets import load_dataset\n",
    "dataset_1 = load_dataset(\"embedding-data/QQP_triplets\", split = \"train\", cache_dir='cache_dir_dataset').to_pandas()\n",
    "dataset_1.head()"
   ]
  },
  {
   "cell_type": "code",
   "execution_count": 39,
   "id": "921f1a4b-b31e-4522-8a24-147eb7551314",
   "metadata": {
    "tags": []
   },
   "outputs": [],
   "source": [
    "df = dataset_1"
   ]
  },
  {
   "cell_type": "code",
   "execution_count": 40,
   "id": "709a9700-fb22-4897-a59f-abf3b3ea1dd7",
   "metadata": {
    "tags": []
   },
   "outputs": [
    {
     "data": {
      "text/html": [
       "<div>\n",
       "<style scoped>\n",
       "    .dataframe tbody tr th:only-of-type {\n",
       "        vertical-align: middle;\n",
       "    }\n",
       "\n",
       "    .dataframe tbody tr th {\n",
       "        vertical-align: top;\n",
       "    }\n",
       "\n",
       "    .dataframe thead th {\n",
       "        text-align: right;\n",
       "    }\n",
       "</style>\n",
       "<table border=\"1\" class=\"dataframe\">\n",
       "  <thead>\n",
       "    <tr style=\"text-align: right;\">\n",
       "      <th></th>\n",
       "      <th>query</th>\n",
       "      <th>positive</th>\n",
       "      <th>0</th>\n",
       "      <th>1</th>\n",
       "      <th>2</th>\n",
       "      <th>3</th>\n",
       "      <th>4</th>\n",
       "      <th>5</th>\n",
       "      <th>6</th>\n",
       "      <th>7</th>\n",
       "      <th>...</th>\n",
       "      <th>20</th>\n",
       "      <th>21</th>\n",
       "      <th>22</th>\n",
       "      <th>23</th>\n",
       "      <th>24</th>\n",
       "      <th>25</th>\n",
       "      <th>26</th>\n",
       "      <th>27</th>\n",
       "      <th>28</th>\n",
       "      <th>29</th>\n",
       "    </tr>\n",
       "  </thead>\n",
       "  <tbody>\n",
       "    <tr>\n",
       "      <th>0</th>\n",
       "      <td>Why in India do we not have one on one politic...</td>\n",
       "      <td>Why cant we have a public debate between polit...</td>\n",
       "      <td>Can people on Quora stop India Pakistan debate...</td>\n",
       "      <td>Why do politicians, instead of having a decent...</td>\n",
       "      <td>Can educated politicians make a difference in ...</td>\n",
       "      <td>What are some unusual aspects about politics a...</td>\n",
       "      <td>What is debate?</td>\n",
       "      <td>Why does civic public communication and discou...</td>\n",
       "      <td>What is a Parliamentary debate?</td>\n",
       "      <td>Why do we always have two candidates at the U....</td>\n",
       "      <td>...</td>\n",
       "      <td>Who is the best politician in India? Why?</td>\n",
       "      <td>We all know about the present condition of Ind...</td>\n",
       "      <td>Who are clean politicians in India?</td>\n",
       "      <td>Why are you not believing in Democracy of India?</td>\n",
       "      <td>What does politics in India mean? What are the...</td>\n",
       "      <td>What are the strongest arguments for a debate ...</td>\n",
       "      <td>Do we really need an election commission in In...</td>\n",
       "      <td>Why is there no concept of political correctne...</td>\n",
       "      <td>Why is population control not on agenda of any...</td>\n",
       "      <td>Who are some of the most dangerous or worst po...</td>\n",
       "    </tr>\n",
       "    <tr>\n",
       "      <th>1</th>\n",
       "      <td>What is OnePlus One?</td>\n",
       "      <td>How is oneplus one?</td>\n",
       "      <td>Why is OnePlus One so good?</td>\n",
       "      <td>What would OnePlus 4 be like?</td>\n",
       "      <td>What does the logo of oneplus phones mean?</td>\n",
       "      <td>Should I root my OnePlus One?</td>\n",
       "      <td>Do you like the OnePlus 2? Would you buy it?</td>\n",
       "      <td>Which one do you prefer: the OnePlus Two or Mo...</td>\n",
       "      <td>What is 1Google?</td>\n",
       "      <td>Which root is stable for OnePlus Two?</td>\n",
       "      <td>...</td>\n",
       "      <td>What type of dog is this one?</td>\n",
       "      <td>What is 1g 2g 3g and 4g?</td>\n",
       "      <td>What does 1.1i mean?</td>\n",
       "      <td>As a user what is your review of OnePlus 3 inc...</td>\n",
       "      <td>What are some examples of one-celled organisms?</td>\n",
       "      <td>What is\" one India one election\" concept?</td>\n",
       "      <td>Why doesn't the OnePlus One have functions lik...</td>\n",
       "      <td>What is the difference between the OnePlus two...</td>\n",
       "      <td>Is it a better idea to buy oneplus3 or I shoul...</td>\n",
       "      <td>What is a double?</td>\n",
       "    </tr>\n",
       "  </tbody>\n",
       "</table>\n",
       "<p>2 rows × 32 columns</p>\n",
       "</div>"
      ],
      "text/plain": [
       "                                               query  \\\n",
       "0  Why in India do we not have one on one politic...   \n",
       "1                               What is OnePlus One?   \n",
       "\n",
       "                                            positive  \\\n",
       "0  Why cant we have a public debate between polit...   \n",
       "1                                How is oneplus one?   \n",
       "\n",
       "                                                   0  \\\n",
       "0  Can people on Quora stop India Pakistan debate...   \n",
       "1                        Why is OnePlus One so good?   \n",
       "\n",
       "                                                   1  \\\n",
       "0  Why do politicians, instead of having a decent...   \n",
       "1                      What would OnePlus 4 be like?   \n",
       "\n",
       "                                                   2  \\\n",
       "0  Can educated politicians make a difference in ...   \n",
       "1         What does the logo of oneplus phones mean?   \n",
       "\n",
       "                                                   3  \\\n",
       "0  What are some unusual aspects about politics a...   \n",
       "1                      Should I root my OnePlus One?   \n",
       "\n",
       "                                              4  \\\n",
       "0                               What is debate?   \n",
       "1  Do you like the OnePlus 2? Would you buy it?   \n",
       "\n",
       "                                                   5  \\\n",
       "0  Why does civic public communication and discou...   \n",
       "1  Which one do you prefer: the OnePlus Two or Mo...   \n",
       "\n",
       "                                 6  \\\n",
       "0  What is a Parliamentary debate?   \n",
       "1                 What is 1Google?   \n",
       "\n",
       "                                                   7  ...  \\\n",
       "0  Why do we always have two candidates at the U....  ...   \n",
       "1              Which root is stable for OnePlus Two?  ...   \n",
       "\n",
       "                                          20  \\\n",
       "0  Who is the best politician in India? Why?   \n",
       "1              What type of dog is this one?   \n",
       "\n",
       "                                                  21  \\\n",
       "0  We all know about the present condition of Ind...   \n",
       "1                           What is 1g 2g 3g and 4g?   \n",
       "\n",
       "                                    22  \\\n",
       "0  Who are clean politicians in India?   \n",
       "1                 What does 1.1i mean?   \n",
       "\n",
       "                                                  23  \\\n",
       "0   Why are you not believing in Democracy of India?   \n",
       "1  As a user what is your review of OnePlus 3 inc...   \n",
       "\n",
       "                                                  24  \\\n",
       "0  What does politics in India mean? What are the...   \n",
       "1    What are some examples of one-celled organisms?   \n",
       "\n",
       "                                                  25  \\\n",
       "0  What are the strongest arguments for a debate ...   \n",
       "1          What is\" one India one election\" concept?   \n",
       "\n",
       "                                                  26  \\\n",
       "0  Do we really need an election commission in In...   \n",
       "1  Why doesn't the OnePlus One have functions lik...   \n",
       "\n",
       "                                                  27  \\\n",
       "0  Why is there no concept of political correctne...   \n",
       "1  What is the difference between the OnePlus two...   \n",
       "\n",
       "                                                  28  \\\n",
       "0  Why is population control not on agenda of any...   \n",
       "1  Is it a better idea to buy oneplus3 or I shoul...   \n",
       "\n",
       "                                                  29  \n",
       "0  Who are some of the most dangerous or worst po...  \n",
       "1                                  What is a double?  \n",
       "\n",
       "[2 rows x 32 columns]"
      ]
     },
     "execution_count": 40,
     "metadata": {},
     "output_type": "execute_result"
    }
   ],
   "source": [
    "import pandas as pd\n",
    "df = pd.concat([df.drop('set', axis=1), df['set'].apply(pd.Series)], axis=1)\n",
    "df = pd.concat([df.drop('pos', axis=1), df['pos'].apply(pd.Series)], axis=1)\n",
    "df.rename(columns = {0:'positive'}, inplace = True)\n",
    "df = pd.concat([df.drop('neg', axis=1), df['neg'].apply(pd.Series)], axis=1)\n",
    "df[:2]"
   ]
  },
  {
   "cell_type": "code",
   "execution_count": 41,
   "id": "e6a33fd3-234c-4af0-9a43-237a5f5eee6c",
   "metadata": {
    "tags": []
   },
   "outputs": [],
   "source": [
    "from numpy import nan\n",
    "data = []\n",
    "for index, row in df.iterrows():\n",
    "    for i in range(3):\n",
    "        # df3 = pd.DataFrame([row[\"word\", row[i]], columns=['word', 'values'])\n",
    "        data.append([row[\"query\"],row[\"positive\"], row[i]])\n",
    "        # print(row[i])\n",
    "df = pd.DataFrame(data)"
   ]
  },
  {
   "cell_type": "code",
   "execution_count": 42,
   "id": "c62d13f3-d0d2-4683-a202-5557f00ed198",
   "metadata": {
    "tags": []
   },
   "outputs": [
    {
     "data": {
      "text/html": [
       "<div>\n",
       "<style scoped>\n",
       "    .dataframe tbody tr th:only-of-type {\n",
       "        vertical-align: middle;\n",
       "    }\n",
       "\n",
       "    .dataframe tbody tr th {\n",
       "        vertical-align: top;\n",
       "    }\n",
       "\n",
       "    .dataframe thead th {\n",
       "        text-align: right;\n",
       "    }\n",
       "</style>\n",
       "<table border=\"1\" class=\"dataframe\">\n",
       "  <thead>\n",
       "    <tr style=\"text-align: right;\">\n",
       "      <th></th>\n",
       "      <th>0</th>\n",
       "      <th>1</th>\n",
       "      <th>2</th>\n",
       "    </tr>\n",
       "  </thead>\n",
       "  <tbody>\n",
       "    <tr>\n",
       "      <th>0</th>\n",
       "      <td>Why in India do we not have one on one politic...</td>\n",
       "      <td>Why cant we have a public debate between polit...</td>\n",
       "      <td>Can people on Quora stop India Pakistan debate...</td>\n",
       "    </tr>\n",
       "    <tr>\n",
       "      <th>1</th>\n",
       "      <td>Why in India do we not have one on one politic...</td>\n",
       "      <td>Why cant we have a public debate between polit...</td>\n",
       "      <td>Why do politicians, instead of having a decent...</td>\n",
       "    </tr>\n",
       "    <tr>\n",
       "      <th>2</th>\n",
       "      <td>Why in India do we not have one on one politic...</td>\n",
       "      <td>Why cant we have a public debate between polit...</td>\n",
       "      <td>Can educated politicians make a difference in ...</td>\n",
       "    </tr>\n",
       "    <tr>\n",
       "      <th>3</th>\n",
       "      <td>What is OnePlus One?</td>\n",
       "      <td>How is oneplus one?</td>\n",
       "      <td>Why is OnePlus One so good?</td>\n",
       "    </tr>\n",
       "    <tr>\n",
       "      <th>4</th>\n",
       "      <td>What is OnePlus One?</td>\n",
       "      <td>How is oneplus one?</td>\n",
       "      <td>What would OnePlus 4 be like?</td>\n",
       "    </tr>\n",
       "  </tbody>\n",
       "</table>\n",
       "</div>"
      ],
      "text/plain": [
       "                                                   0  \\\n",
       "0  Why in India do we not have one on one politic...   \n",
       "1  Why in India do we not have one on one politic...   \n",
       "2  Why in India do we not have one on one politic...   \n",
       "3                               What is OnePlus One?   \n",
       "4                               What is OnePlus One?   \n",
       "\n",
       "                                                   1  \\\n",
       "0  Why cant we have a public debate between polit...   \n",
       "1  Why cant we have a public debate between polit...   \n",
       "2  Why cant we have a public debate between polit...   \n",
       "3                                How is oneplus one?   \n",
       "4                                How is oneplus one?   \n",
       "\n",
       "                                                   2  \n",
       "0  Can people on Quora stop India Pakistan debate...  \n",
       "1  Why do politicians, instead of having a decent...  \n",
       "2  Can educated politicians make a difference in ...  \n",
       "3                        Why is OnePlus One so good?  \n",
       "4                      What would OnePlus 4 be like?  "
      ]
     },
     "execution_count": 42,
     "metadata": {},
     "output_type": "execute_result"
    }
   ],
   "source": [
    "df.head()"
   ]
  },
  {
   "cell_type": "code",
   "execution_count": 43,
   "id": "7a8ef81a-8266-474d-8085-3bdd062b292d",
   "metadata": {
    "tags": []
   },
   "outputs": [
    {
     "data": {
      "text/plain": [
       "305286"
      ]
     },
     "execution_count": 43,
     "metadata": {},
     "output_type": "execute_result"
    }
   ],
   "source": [
    "df.shape[0]"
   ]
  },
  {
   "cell_type": "code",
   "execution_count": 44,
   "id": "1cb0c157-2a6f-4ff9-88fa-d871029115db",
   "metadata": {
    "tags": []
   },
   "outputs": [
    {
     "name": "stdout",
     "output_type": "stream",
     "text": [
      "The number of Dropped rows: 2888\n",
      "total number of null values in df_before and df: 2888 and 0\n"
     ]
    }
   ],
   "source": [
    "# droping any row with null value\n",
    "temp = df.shape[0]\n",
    "null_count_before = df.isnull().sum().sum()\n",
    "df = df.dropna(axis=0)\n",
    "df= df.reset_index(drop =True) # index is all messed up after drop so we resetindex.\n",
    "print(\"The number of Dropped rows:\",temp-df.shape[0])\n",
    "null_count_dataset_1 = dataset_1.isnull().sum().sum()\n",
    "null_count_df = df.isnull().sum().sum()\n",
    "print(\"total number of null values in df_before and df:\",null_count_before, \"and\", null_count_df)"
   ]
  },
  {
   "cell_type": "code",
   "execution_count": 45,
   "id": "ccb5d8d0-2bf3-45b0-b4eb-49e8d0591ccd",
   "metadata": {
    "tags": []
   },
   "outputs": [],
   "source": [
    "df.rename(columns = {0:'anchor'}, inplace = True)\n",
    "df.rename(columns = {1:'positive'}, inplace = True)\n",
    "df.rename(columns = {2:'negative'}, inplace = True)"
   ]
  },
  {
   "cell_type": "code",
   "execution_count": 46,
   "id": "eb2ba334-233b-4511-b871-c7a23cebd7ef",
   "metadata": {
    "tags": []
   },
   "outputs": [
    {
     "name": "stdout",
     "output_type": "stream",
     "text": [
      "48484851\n"
     ]
    }
   ],
   "source": [
    "# counting total character in dataset\n",
    "total_character = 0\n",
    "for index_1, row in df.iterrows():\n",
    "    total_character = len(row[\"anchor\"]) + len(row[\"positive\"]) + len(row[\"negative\"]) + total_character\n",
    "print(total_character)"
   ]
  },
  {
   "cell_type": "code",
   "execution_count": 47,
   "id": "4363d10b-e194-49cb-8f82-99ca99abe702",
   "metadata": {
    "tags": []
   },
   "outputs": [
    {
     "name": "stdout",
     "output_type": "stream",
     "text": [
      "0\n"
     ]
    }
   ],
   "source": [
    "# counting the number of value we won't going to translate\n",
    "no_translate = 0\n",
    "for index_1, row in df.iterrows():\n",
    "    if (len(row[\"anchor\"]) == 0):\n",
    "        no_translate += 1\n",
    "    if (len(row[\"positive\"]) == 0):\n",
    "        no_translate += 1\n",
    "    if (len(row[\"negative\"]) == 0):\n",
    "        no_translate += 1\n",
    "print(no_translate)"
   ]
  },
  {
   "cell_type": "code",
   "execution_count": 48,
   "id": "428f5d78-03c6-47ea-bf1d-d688277c8754",
   "metadata": {
    "tags": []
   },
   "outputs": [
    {
     "data": {
      "text/plain": [
       "(302398, 101762)"
      ]
     },
     "execution_count": 48,
     "metadata": {},
     "output_type": "execute_result"
    }
   ],
   "source": [
    "# len of dataset\n",
    "len(df), len(dataset_1)"
   ]
  },
  {
   "cell_type": "code",
   "execution_count": 49,
   "id": "982c031b-5f84-4a78-9ac3-62dabfbac981",
   "metadata": {
    "tags": []
   },
   "outputs": [
    {
     "data": {
      "text/html": [
       "<div>\n",
       "<style scoped>\n",
       "    .dataframe tbody tr th:only-of-type {\n",
       "        vertical-align: middle;\n",
       "    }\n",
       "\n",
       "    .dataframe tbody tr th {\n",
       "        vertical-align: top;\n",
       "    }\n",
       "\n",
       "    .dataframe thead th {\n",
       "        text-align: right;\n",
       "    }\n",
       "</style>\n",
       "<table border=\"1\" class=\"dataframe\">\n",
       "  <thead>\n",
       "    <tr style=\"text-align: right;\">\n",
       "      <th></th>\n",
       "      <th>anchor</th>\n",
       "      <th>positive</th>\n",
       "      <th>negative</th>\n",
       "    </tr>\n",
       "  </thead>\n",
       "  <tbody>\n",
       "    <tr>\n",
       "      <th>0</th>\n",
       "      <td>Why in India do we not have one on one politic...</td>\n",
       "      <td>Why cant we have a public debate between polit...</td>\n",
       "      <td>Can people on Quora stop India Pakistan debate...</td>\n",
       "    </tr>\n",
       "    <tr>\n",
       "      <th>1</th>\n",
       "      <td>Why in India do we not have one on one politic...</td>\n",
       "      <td>Why cant we have a public debate between polit...</td>\n",
       "      <td>Why do politicians, instead of having a decent...</td>\n",
       "    </tr>\n",
       "    <tr>\n",
       "      <th>2</th>\n",
       "      <td>Why in India do we not have one on one politic...</td>\n",
       "      <td>Why cant we have a public debate between polit...</td>\n",
       "      <td>Can educated politicians make a difference in ...</td>\n",
       "    </tr>\n",
       "    <tr>\n",
       "      <th>3</th>\n",
       "      <td>What is OnePlus One?</td>\n",
       "      <td>How is oneplus one?</td>\n",
       "      <td>Why is OnePlus One so good?</td>\n",
       "    </tr>\n",
       "    <tr>\n",
       "      <th>4</th>\n",
       "      <td>What is OnePlus One?</td>\n",
       "      <td>How is oneplus one?</td>\n",
       "      <td>What would OnePlus 4 be like?</td>\n",
       "    </tr>\n",
       "  </tbody>\n",
       "</table>\n",
       "</div>"
      ],
      "text/plain": [
       "                                              anchor  \\\n",
       "0  Why in India do we not have one on one politic...   \n",
       "1  Why in India do we not have one on one politic...   \n",
       "2  Why in India do we not have one on one politic...   \n",
       "3                               What is OnePlus One?   \n",
       "4                               What is OnePlus One?   \n",
       "\n",
       "                                            positive  \\\n",
       "0  Why cant we have a public debate between polit...   \n",
       "1  Why cant we have a public debate between polit...   \n",
       "2  Why cant we have a public debate between polit...   \n",
       "3                                How is oneplus one?   \n",
       "4                                How is oneplus one?   \n",
       "\n",
       "                                            negative  \n",
       "0  Can people on Quora stop India Pakistan debate...  \n",
       "1  Why do politicians, instead of having a decent...  \n",
       "2  Can educated politicians make a difference in ...  \n",
       "3                        Why is OnePlus One so good?  \n",
       "4                      What would OnePlus 4 be like?  "
      ]
     },
     "execution_count": 49,
     "metadata": {},
     "output_type": "execute_result"
    }
   ],
   "source": [
    "df.head()"
   ]
  },
  {
   "cell_type": "code",
   "execution_count": 50,
   "id": "52344d99-6c2d-40d5-bea2-38fe9e57f7e4",
   "metadata": {
    "tags": []
   },
   "outputs": [
    {
     "data": {
      "text/plain": [
       "0"
      ]
     },
     "execution_count": 50,
     "metadata": {},
     "output_type": "execute_result"
    }
   ],
   "source": [
    "# rechecking the null value\n",
    "null_count_df = df.isnull().sum().sum()\n",
    "null_count_df"
   ]
  },
  {
   "cell_type": "code",
   "execution_count": 51,
   "id": "915a695c-9924-4786-a802-49069691814e",
   "metadata": {
    "tags": []
   },
   "outputs": [],
   "source": [
    "df_1 = pd.DataFrame(columns=['anchor', 'positive', 'negative'])"
   ]
  },
  {
   "cell_type": "code",
   "execution_count": 52,
   "id": "65224f21-7579-4705-819c-4a04e2d889ea",
   "metadata": {
    "tags": []
   },
   "outputs": [
    {
     "name": "stdout",
     "output_type": "stream",
     "text": [
      "1169 260480\n"
     ]
    }
   ],
   "source": [
    "# Checking the max_length in whole dataset\n",
    "max_length = 0\n",
    "max_length_index = [0]\n",
    "for index, row in df.iterrows():\n",
    "    if (len(row[\"anchor\"])> max_length):\n",
    "        max_length = len(row[\"anchor\"])\n",
    "        max_length_index.append(index)\n",
    "    if (len(row[\"positive\"])> max_length):\n",
    "        max_length = len(row[\"positive\"])\n",
    "        max_length_index.append(index)\n",
    "    if (len(row[\"negative\"])> max_length):\n",
    "        max_length = len(row[\"negative\"])\n",
    "        max_length_index.append(index)\n",
    "    \n",
    "    \n",
    "print(max_length, max_length_index[-1])"
   ]
  },
  {
   "cell_type": "code",
   "execution_count": 54,
   "id": "54d6e105-3302-46b7-a7a3-fb98efece8ab",
   "metadata": {
    "tags": []
   },
   "outputs": [
    {
     "data": {
      "text/plain": [
       "'I have been married almost 15 years. We have two children, 11 and 8. My childhood was horrible, seven years of sexual, physical, and mental/emotional abuse followed by instability and low self esteem issues as a teen. My husband met me after I began dealing with my childhood and knew all about my issues. He knew what would end our marriage, yet he did it and lied about it multiple times. I was pregnant and did not leave. We tried to make it work. We had another child. We have been through MANY \"situations\" in our marriage and as parents. For the past 6-8 years we have just been living as parents. Not lovers. In the past I tried everything to make our marriage work. I finally decided to be done with it. Now he says he loves me and wants to make it work. But he is manipulative and can be so mean. He uses my children to cause me pain and stress. He knows that they are the only reason I stay. We are in counciling, but I really have no \"love\" feelings for him. I told him I want a divorce, but he won\\'t give me one. He has said he will make my life miserable until the 18 months of separation are up and divorce is granted. Any advice? I\\'m ready to run away...'"
      ]
     },
     "execution_count": 55,
     "metadata": {},
     "output_type": "execute_result"
    }
   ],
   "source": [
    "df.iloc[max_length_index[-1]][\"positiv\"]"
   ]
  },
  {
   "cell_type": "code",
   "execution_count": 56,
   "id": "80bcfba7-dcac-4be4-9c21-f5ab1931a8cc",
   "metadata": {
    "tags": []
   },
   "outputs": [],
   "source": [
    "#filter for small length\n",
    "limit_length = 500\n",
    "for index, row in df[:100000].iterrows():\n",
    "    if (len(row[\"anchor\"])> limit_length):\n",
    "        continue\n",
    "    if (len(row[\"positive\"])> max_length):\n",
    "        continue\n",
    "    if (len(row[\"negative\"])> max_length):\n",
    "        continue\n",
    "    new_dic = {\"anchor\": [row[\"anchor\"]], \"positive\": [row[\"positive\"]], \"negative\": [row[\"negative\"]] }\n",
    "    temp_df = pd.DataFrame(new_dic)\n",
    "    df_1 = pd.concat([df_1, temp_df], ignore_index = True)\n",
    "    df_1.reset_index()"
   ]
  },
  {
   "cell_type": "code",
   "execution_count": 57,
   "id": "0edcd154-ae84-4066-933b-ce9fea94b14b",
   "metadata": {
    "tags": []
   },
   "outputs": [
    {
     "data": {
      "text/html": [
       "<div>\n",
       "<style scoped>\n",
       "    .dataframe tbody tr th:only-of-type {\n",
       "        vertical-align: middle;\n",
       "    }\n",
       "\n",
       "    .dataframe tbody tr th {\n",
       "        vertical-align: top;\n",
       "    }\n",
       "\n",
       "    .dataframe thead th {\n",
       "        text-align: right;\n",
       "    }\n",
       "</style>\n",
       "<table border=\"1\" class=\"dataframe\">\n",
       "  <thead>\n",
       "    <tr style=\"text-align: right;\">\n",
       "      <th></th>\n",
       "      <th>anchor</th>\n",
       "      <th>positive</th>\n",
       "      <th>negative</th>\n",
       "    </tr>\n",
       "  </thead>\n",
       "  <tbody>\n",
       "    <tr>\n",
       "      <th>99995</th>\n",
       "      <td>How can I study more hard?</td>\n",
       "      <td>How do you study effectively?</td>\n",
       "      <td>How long should I study?</td>\n",
       "    </tr>\n",
       "    <tr>\n",
       "      <th>99996</th>\n",
       "      <td>Are protests against Trump's presidency justif...</td>\n",
       "      <td>Are riots against Trump's presidency justified?</td>\n",
       "      <td>Why have the number of race riots increased du...</td>\n",
       "    </tr>\n",
       "    <tr>\n",
       "      <th>99997</th>\n",
       "      <td>Are protests against Trump's presidency justif...</td>\n",
       "      <td>Are riots against Trump's presidency justified?</td>\n",
       "      <td>Will the recent violence directed at protester...</td>\n",
       "    </tr>\n",
       "    <tr>\n",
       "      <th>99998</th>\n",
       "      <td>Are protests against Trump's presidency justif...</td>\n",
       "      <td>Are riots against Trump's presidency justified?</td>\n",
       "      <td>Were there riots when Obama won?</td>\n",
       "    </tr>\n",
       "    <tr>\n",
       "      <th>99999</th>\n",
       "      <td>What was your most embarrassing moment infront...</td>\n",
       "      <td>What is the most embarrassing moment in front ...</td>\n",
       "      <td>Which was the most embarrassing moment in fron...</td>\n",
       "    </tr>\n",
       "  </tbody>\n",
       "</table>\n",
       "</div>"
      ],
      "text/plain": [
       "                                                  anchor  \\\n",
       "99995                         How can I study more hard?   \n",
       "99996  Are protests against Trump's presidency justif...   \n",
       "99997  Are protests against Trump's presidency justif...   \n",
       "99998  Are protests against Trump's presidency justif...   \n",
       "99999  What was your most embarrassing moment infront...   \n",
       "\n",
       "                                                positive  \\\n",
       "99995                      How do you study effectively?   \n",
       "99996    Are riots against Trump's presidency justified?   \n",
       "99997    Are riots against Trump's presidency justified?   \n",
       "99998    Are riots against Trump's presidency justified?   \n",
       "99999  What is the most embarrassing moment in front ...   \n",
       "\n",
       "                                                negative  \n",
       "99995                           How long should I study?  \n",
       "99996  Why have the number of race riots increased du...  \n",
       "99997  Will the recent violence directed at protester...  \n",
       "99998                   Were there riots when Obama won?  \n",
       "99999  Which was the most embarrassing moment in fron...  "
      ]
     },
     "execution_count": 57,
     "metadata": {},
     "output_type": "execute_result"
    }
   ],
   "source": [
    "df_1.tail()"
   ]
  },
  {
   "cell_type": "code",
   "execution_count": 59,
   "id": "a30cefa6-e476-41d8-9a38-fbbc2f979ed1",
   "metadata": {
    "tags": []
   },
   "outputs": [
    {
     "data": {
      "text/plain": [
       "100000"
      ]
     },
     "execution_count": 59,
     "metadata": {},
     "output_type": "execute_result"
    }
   ],
   "source": [
    "len(df_1)"
   ]
  },
  {
   "cell_type": "markdown",
   "id": "c07ef5e3-1dfc-4cfa-97bd-46a2e952a832",
   "metadata": {},
   "source": [
    "# Load the model"
   ]
  },
  {
   "cell_type": "code",
   "execution_count": 58,
   "id": "b34104e7-6ae6-45a8-b488-d71bfafa6b6e",
   "metadata": {
    "tags": []
   },
   "outputs": [
    {
     "name": "stdout",
     "output_type": "stream",
     "text": [
      "🦥 Unsloth: Will patch your computer to enable 2x faster free finetuning.\n",
      "==((====))==  Unsloth 2024.8: Fast Llama patching. Transformers = 4.44.0.\n",
      "   \\\\   /|    GPU: NVIDIA L4. Max memory: 21.964 GB. Platform = Linux.\n",
      "O^O/ \\_/ \\    Pytorch: 2.3.0+cu121. CUDA = 8.9. CUDA Toolkit = 12.1.\n",
      "\\        /    Bfloat16 = TRUE. FA [Xformers = 0.0.26.post1. FA2 = False]\n",
      " \"-____-\"     Free Apache license: http://github.com/unslothai/unsloth\n"
     ]
    },
    {
     "data": {
      "application/vnd.jupyter.widget-view+json": {
       "model_id": "af05acf2533844b685251ced7f8f7c48",
       "version_major": 2,
       "version_minor": 0
      },
      "text/plain": [
       "Loading checkpoint shards:   0%|          | 0/4 [00:00<?, ?it/s]"
      ]
     },
     "metadata": {},
     "output_type": "display_data"
    },
    {
     "data": {
      "application/vnd.jupyter.widget-view+json": {
       "model_id": "5815017a2cff4e3e813a24112e239597",
       "version_major": 2,
       "version_minor": 0
      },
      "text/plain": [
       "tokenizer_config.json:   0%|          | 0.00/51.0k [00:00<?, ?B/s]"
      ]
     },
     "metadata": {},
     "output_type": "display_data"
    },
    {
     "data": {
      "application/vnd.jupyter.widget-view+json": {
       "model_id": "9748e279871941c9876b343bc07634b3",
       "version_major": 2,
       "version_minor": 0
      },
      "text/plain": [
       "tokenizer.json:   0%|          | 0.00/9.08M [00:00<?, ?B/s]"
      ]
     },
     "metadata": {},
     "output_type": "display_data"
    },
    {
     "data": {
      "application/vnd.jupyter.widget-view+json": {
       "model_id": "7dec96ef1287492a9fb9eb3ba4e1c6d2",
       "version_major": 2,
       "version_minor": 0
      },
      "text/plain": [
       "special_tokens_map.json:   0%|          | 0.00/454 [00:00<?, ?B/s]"
      ]
     },
     "metadata": {},
     "output_type": "display_data"
    }
   ],
   "source": [
    "from unsloth import FastLanguageModel\n",
    "import torch\n",
    "max_seq_length = 2048 # Choose any! We auto support RoPE Scaling internally!\n",
    "dtype = None # None for auto detection. Float16 for Tesla T4, V100, Bfloat16 for Ampere+\n",
    "load_in_4bit = False # Use 4bit quantization to reduce memory usage. Can be False.\n",
    "\n",
    "\n",
    "model, tokenizer = FastLanguageModel.from_pretrained(\n",
    "    model_name = \"universalml0/NepaliGPT-2.0-finetuned\",\n",
    "    max_seq_length = max_seq_length,\n",
    "    dtype = dtype,\n",
    "    load_in_4bit = load_in_4bit,\n",
    "    cache_dir = 'cache_dir',\n",
    "    token = \"\", # use one if using gated models like meta-llama/Llama-2-7b-hf\n",
    ")"
   ]
  },
  {
   "cell_type": "code",
   "execution_count": 66,
   "id": "8dba2bf2-dc8e-4462-aa2f-68da64a9f13f",
   "metadata": {
    "tags": []
   },
   "outputs": [],
   "source": [
    "translation_prompt = \"\"\"Below is instruction that describes a task, paired with input which provide further context. Write a response  that appropriately complete the request.\n",
    "\n",
    "### Instruction:\n",
    "Your task is only to do the translation of given sentences or questions to Nepali language. Donot lose the context or meaning of senteces of questions while translation. Translate the following English sentences or questions to Nepali language: {}\n",
    "\n",
    "### Input:\n",
    "\n",
    "\n",
    "### Response:\n",
    "{}\"\"\""
   ]
  },
  {
   "cell_type": "code",
   "execution_count": 79,
   "id": "21544365-037a-462f-98a5-3fe0afb2a8a4",
   "metadata": {
    "tags": []
   },
   "outputs": [],
   "source": [
    "def unsloth_llm(question):\n",
    "    if (len(question) > 0):\n",
    "        FastLanguageModel.for_inference(model) # Enable native 2x faster inference\n",
    "        positives = tokenizer(\n",
    "        [\n",
    "            translation_prompt.format(\n",
    "                question,\n",
    "                '',\n",
    "            )\n",
    "        ], return_tensors = \"pt\").to(\"cuda\")\n",
    "\n",
    "        negatives = model.generate(**positives, max_new_tokens = 2048, use_cache = True,temperature=0.1)\n",
    "        generated_text=tokenizer.batch_decode(negatives, skip_special_tokens=True)\n",
    "        x = generated_text[0].split('### Response:\\n')\n",
    "        return x[1]\n",
    "    else:\n",
    "        return \"\""
   ]
  },
  {
   "cell_type": "code",
   "execution_count": 93,
   "id": "68fae503-1b5e-4b53-aed3-9e828817e456",
   "metadata": {
    "tags": []
   },
   "outputs": [
    {
     "data": {
      "text/plain": [
       "'विज्ञानको अर्थ के हो?'"
      ]
     },
     "execution_count": 93,
     "metadata": {},
     "output_type": "execute_result"
    }
   ],
   "source": [
    "unsloth_llm(\"\"\"What is the meaning of this science\"\"\")"
   ]
  },
  {
   "cell_type": "code",
   "execution_count": null,
   "id": "4e395f85-83d1-4dd5-bcd3-af5524bb93fa",
   "metadata": {
    "tags": []
   },
   "outputs": [],
   "source": [
    "# a = \"\"\"महान् मन्दी एक आर्थिक अवस्था थियो जुन 1929-1939 सम्म चलेको थियो, जसले यसलाई आधुनिक इतिहासमा सबैभन्दा लामो मन्दी बनायो। यसले संयुक्त राज्य अमेरिका मात्र होइन तर विश्वभरका देशहरूलाई पनि असर गऱ्यो, जसले महत्त्वपूर्ण सामाजिक र आर्थिक विघटन निम्त्यायो। महान् मन्दीका धेरै प्रमुख कारणहरू थिए, जसमा समावेश छन्: १. सन् १९२९ को शेयर बजार दुर्घटना – अक्टोबर १९२९ मा, शेयर बजारले महत्त्वपूर्ण गिरावट को अनुभव गर्यो, जसले लाखौं लगानीकर्ताहरूलाई नष्ट गर्यो। यो घटनालाई धेरैले महान् मन्दीको प्रारम्भिक ट्रिगर मान्छन्। २. ओभरप्रोडक्सन – १९२० को दशकमा, धेरै उद्योगहरूले उपभोक्ताहरूले चाहेको वा खर्च गर्न सक्ने भन्दा बढी सामानहरू उत्पादन गरे। यसले अन्ततः मागमा गिरावट ल्यायो, जसले गर्दा रोजगारी गुम्यो, ज्याला घट्यो र व्यवसायहरू असफल भए। ३. उच्च ट्यारिफ र युद्ध ऋण – संरक्षणवादी व्यापार नीतिहरूको रूपमा उच्च ट्यारिफले विश्वव्यापी व्यापारमा गिरावट ल्यायो, किनकि अन्य देशहरूले प्रतिक्रियामा आफ्नै ट्यारिफ हरू बढाए। यसका अतिरिक्त, धेरै देशहरू युद्धको ऋण तिर्न संघर्ष गरिरहेका थिए, जसले आर्थिक अस्थिरता निम्त्यायो। ४. बैंकको असफलता – जब मागमा गिरावट आयो, धेरै बैंकहरू असफल भए, जसले गर्दा बैंकिङ प्रणालीमा विश्वास गुम्यो। यसले गर्दा बैंकहरूबाट पैसा निकाल्ने र अझ धेरै बैंकहरू असफल हुने क्रम बढ्यो। ५. खडेरीको अवस्था – धूलो बाउल एक गम्भीर खडेरी र धूलो आँधी थियो जुन संयुक्त राज्य अमेरिकाको ग्रेट प्लेन्स क्षेत्रमा १९३० को दशकमा आयो। यसले कृषिमा महत्त्वपूर्ण प्रभाव पार्यो, जसले गर्दा धेरै किसानहरूले आफ्नो जमिन गुमाए र जीविकोपार्जन गुमाए, जसले गर्दा मन्दीको प्रभाव अझ खराब भयो। समग्रमा महान् मन्दी विभिन्न कारणहरूद्वारा प्रेरित भएको थियो, जसमा आर्थिक, वातावरणीय र राजनीतिक कारकहरू समावेश थिए। यसको प्रभाव विश्वव्यापी थियो, जसले लाखौं मानिसहरूलाई असर गरेको थियो।\"\"\""
   ]
  },
  {
   "cell_type": "code",
   "execution_count": null,
   "id": "452307dd-1e15-49a4-9e2b-1401777553ff",
   "metadata": {
    "tags": []
   },
   "outputs": [],
   "source": [
    "# len(tokenizer.tokenize(a))"
   ]
  },
  {
   "cell_type": "markdown",
   "id": "3e9837a5-34d4-4359-a7f6-fb7c69d39917",
   "metadata": {},
   "source": [
    "# for Initial (save the out.csv)"
   ]
  },
  {
   "cell_type": "code",
   "execution_count": 94,
   "id": "e32f8578-0b79-42d7-95e7-80817134173d",
   "metadata": {
    "tags": []
   },
   "outputs": [],
   "source": [
    "df_2 = pd.DataFrame(columns=['anchor', 'positive', 'negative'])"
   ]
  },
  {
   "cell_type": "code",
   "execution_count": 95,
   "id": "008833c4-5f53-474c-869a-281c67549fca",
   "metadata": {
    "tags": []
   },
   "outputs": [
    {
     "name": "stdout",
     "output_type": "stream",
     "text": [
      "0\n",
      "1\n",
      "CPU times: user 19.5 s, sys: 2.36 ms, total: 19.5 s\n",
      "Wall time: 19.5 s\n"
     ]
    }
   ],
   "source": [
    "%%time\n",
    "for index, row in df_1[:2].iterrows():\n",
    "    \n",
    "    nepali_anchor = unsloth_llm(row[\"anchor\"])\n",
    "    nepali_positive = unsloth_llm(row[\"positive\"])\n",
    "    nepali_negative = unsloth_llm(row[\"negative\"])\n",
    "    \n",
    "    new_dic = {\"anchor\": [nepali_anchor], \"positive\": [nepali_positive], \"negative\": [nepali_negative] }\n",
    "    temp_df = pd.DataFrame(new_dic)\n",
    "    # display(temp_df)\n",
    "\n",
    "    df_2 = pd.concat([df_2, temp_df], ignore_index = True)\n",
    "    df_2.reset_index()\n",
    "    df_2.to_csv('out.csv')\n",
    "    print(index)"
   ]
  },
  {
   "cell_type": "code",
   "execution_count": 96,
   "id": "c4f8d733-9820-4417-9a0d-133bf42b999d",
   "metadata": {
    "tags": []
   },
   "outputs": [
    {
     "data": {
      "text/html": [
       "<div>\n",
       "<style scoped>\n",
       "    .dataframe tbody tr th:only-of-type {\n",
       "        vertical-align: middle;\n",
       "    }\n",
       "\n",
       "    .dataframe tbody tr th {\n",
       "        vertical-align: top;\n",
       "    }\n",
       "\n",
       "    .dataframe thead th {\n",
       "        text-align: right;\n",
       "    }\n",
       "</style>\n",
       "<table border=\"1\" class=\"dataframe\">\n",
       "  <thead>\n",
       "    <tr style=\"text-align: right;\">\n",
       "      <th></th>\n",
       "      <th>anchor</th>\n",
       "      <th>positive</th>\n",
       "      <th>negative</th>\n",
       "    </tr>\n",
       "  </thead>\n",
       "  <tbody>\n",
       "    <tr>\n",
       "      <th>0</th>\n",
       "      <td>भारतमा हामीले अमेरिकामा जस्तै एक-अर्कासँग राजन...</td>\n",
       "      <td>भारतमा राजनीतिज्ञहरूबीच संयुक्त राज्य अमेरिकाम...</td>\n",
       "      <td>के क्वोरामा भारत-पाकिस्तान बहस रोक्न सकिन्छ? ह...</td>\n",
       "    </tr>\n",
       "    <tr>\n",
       "      <th>1</th>\n",
       "      <td>भारतमा हामीले अमेरिकी शैलीको एक-देखि-एक राजनीत...</td>\n",
       "      <td>भारतमा राजनीतिज्ञहरूबीच संयुक्त राज्य अमेरिकाम...</td>\n",
       "      <td>राजनीतिज्ञहरूले किन विश्वभरि भइरहेका मुद्दाहरू...</td>\n",
       "    </tr>\n",
       "  </tbody>\n",
       "</table>\n",
       "</div>"
      ],
      "text/plain": [
       "                                              anchor  \\\n",
       "0  भारतमा हामीले अमेरिकामा जस्तै एक-अर्कासँग राजन...   \n",
       "1  भारतमा हामीले अमेरिकी शैलीको एक-देखि-एक राजनीत...   \n",
       "\n",
       "                                            positive  \\\n",
       "0  भारतमा राजनीतिज्ञहरूबीच संयुक्त राज्य अमेरिकाम...   \n",
       "1  भारतमा राजनीतिज्ञहरूबीच संयुक्त राज्य अमेरिकाम...   \n",
       "\n",
       "                                            negative  \n",
       "0  के क्वोरामा भारत-पाकिस्तान बहस रोक्न सकिन्छ? ह...  \n",
       "1  राजनीतिज्ञहरूले किन विश्वभरि भइरहेका मुद्दाहरू...  "
      ]
     },
     "execution_count": 96,
     "metadata": {},
     "output_type": "execute_result"
    }
   ],
   "source": [
    "df_2.tail()"
   ]
  },
  {
   "cell_type": "code",
   "execution_count": 98,
   "id": "67ff071d-0a8b-4917-a14c-35cd4a60e8b6",
   "metadata": {
    "tags": []
   },
   "outputs": [
    {
     "data": {
      "text/plain": [
       "False"
      ]
     },
     "execution_count": 98,
     "metadata": {},
     "output_type": "execute_result"
    }
   ],
   "source": [
    "df_2.iloc[1][\"negative\"]==df_2.iloc[0][\"negative\"]"
   ]
  },
  {
   "cell_type": "markdown",
   "id": "bae07e6f-893d-4066-bb65-ecc6210c36ee",
   "metadata": {
    "tags": []
   },
   "source": [
    "# From load from csv"
   ]
  },
  {
   "cell_type": "code",
   "execution_count": 99,
   "id": "d2974862-cf18-4f9a-85ae-dad388a40e5a",
   "metadata": {
    "tags": []
   },
   "outputs": [
    {
     "data": {
      "text/html": [
       "<div>\n",
       "<style scoped>\n",
       "    .dataframe tbody tr th:only-of-type {\n",
       "        vertical-align: middle;\n",
       "    }\n",
       "\n",
       "    .dataframe tbody tr th {\n",
       "        vertical-align: top;\n",
       "    }\n",
       "\n",
       "    .dataframe thead th {\n",
       "        text-align: right;\n",
       "    }\n",
       "</style>\n",
       "<table border=\"1\" class=\"dataframe\">\n",
       "  <thead>\n",
       "    <tr style=\"text-align: right;\">\n",
       "      <th></th>\n",
       "      <th>anchor</th>\n",
       "      <th>positive</th>\n",
       "      <th>negative</th>\n",
       "    </tr>\n",
       "  </thead>\n",
       "  <tbody>\n",
       "    <tr>\n",
       "      <th>0</th>\n",
       "      <td>भारतमा हामीले अमेरिकामा जस्तै एक-अर्कासँग राजन...</td>\n",
       "      <td>भारतमा राजनीतिज्ञहरूबीच संयुक्त राज्य अमेरिकाम...</td>\n",
       "      <td>के क्वोरामा भारत-पाकिस्तान बहस रोक्न सकिन्छ? ह...</td>\n",
       "    </tr>\n",
       "    <tr>\n",
       "      <th>1</th>\n",
       "      <td>भारतमा हामीले अमेरिकी शैलीको एक-देखि-एक राजनीत...</td>\n",
       "      <td>भारतमा राजनीतिज्ञहरूबीच संयुक्त राज्य अमेरिकाम...</td>\n",
       "      <td>राजनीतिज्ञहरूले किन विश्वभरि भइरहेका मुद्दाहरू...</td>\n",
       "    </tr>\n",
       "  </tbody>\n",
       "</table>\n",
       "</div>"
      ],
      "text/plain": [
       "                                              anchor  \\\n",
       "0  भारतमा हामीले अमेरिकामा जस्तै एक-अर्कासँग राजन...   \n",
       "1  भारतमा हामीले अमेरिकी शैलीको एक-देखि-एक राजनीत...   \n",
       "\n",
       "                                            positive  \\\n",
       "0  भारतमा राजनीतिज्ञहरूबीच संयुक्त राज्य अमेरिकाम...   \n",
       "1  भारतमा राजनीतिज्ञहरूबीच संयुक्त राज्य अमेरिकाम...   \n",
       "\n",
       "                                            negative  \n",
       "0  के क्वोरामा भारत-पाकिस्तान बहस रोक्न सकिन्छ? ह...  \n",
       "1  राजनीतिज्ञहरूले किन विश्वभरि भइरहेका मुद्दाहरू...  "
      ]
     },
     "execution_count": 99,
     "metadata": {},
     "output_type": "execute_result"
    }
   ],
   "source": [
    "import pandas as pd\n",
    "\n",
    "df_2 = pd.read_csv('out.csv')\n",
    "df_2 = df_2.drop(columns = ['Unnamed: 0'])\n",
    "df_2 = df_2.fillna('')\n",
    "df_2.head()"
   ]
  },
  {
   "cell_type": "code",
   "execution_count": 100,
   "id": "63fa5380-b411-426d-9a3b-88bff5ca38ed",
   "metadata": {
    "tags": []
   },
   "outputs": [
    {
     "data": {
      "text/html": [
       "<div>\n",
       "<style scoped>\n",
       "    .dataframe tbody tr th:only-of-type {\n",
       "        vertical-align: middle;\n",
       "    }\n",
       "\n",
       "    .dataframe tbody tr th {\n",
       "        vertical-align: top;\n",
       "    }\n",
       "\n",
       "    .dataframe thead th {\n",
       "        text-align: right;\n",
       "    }\n",
       "</style>\n",
       "<table border=\"1\" class=\"dataframe\">\n",
       "  <thead>\n",
       "    <tr style=\"text-align: right;\">\n",
       "      <th></th>\n",
       "      <th>anchor</th>\n",
       "      <th>positive</th>\n",
       "      <th>negative</th>\n",
       "    </tr>\n",
       "  </thead>\n",
       "  <tbody>\n",
       "    <tr>\n",
       "      <th>0</th>\n",
       "      <td>भारतमा हामीले अमेरिकामा जस्तै एक-अर्कासँग राजन...</td>\n",
       "      <td>भारतमा राजनीतिज्ञहरूबीच संयुक्त राज्य अमेरिकाम...</td>\n",
       "      <td>के क्वोरामा भारत-पाकिस्तान बहस रोक्न सकिन्छ? ह...</td>\n",
       "    </tr>\n",
       "    <tr>\n",
       "      <th>1</th>\n",
       "      <td>भारतमा हामीले अमेरिकी शैलीको एक-देखि-एक राजनीत...</td>\n",
       "      <td>भारतमा राजनीतिज्ञहरूबीच संयुक्त राज्य अमेरिकाम...</td>\n",
       "      <td>राजनीतिज्ञहरूले किन विश्वभरि भइरहेका मुद्दाहरू...</td>\n",
       "    </tr>\n",
       "  </tbody>\n",
       "</table>\n",
       "</div>"
      ],
      "text/plain": [
       "                                              anchor  \\\n",
       "0  भारतमा हामीले अमेरिकामा जस्तै एक-अर्कासँग राजन...   \n",
       "1  भारतमा हामीले अमेरिकी शैलीको एक-देखि-एक राजनीत...   \n",
       "\n",
       "                                            positive  \\\n",
       "0  भारतमा राजनीतिज्ञहरूबीच संयुक्त राज्य अमेरिकाम...   \n",
       "1  भारतमा राजनीतिज्ञहरूबीच संयुक्त राज्य अमेरिकाम...   \n",
       "\n",
       "                                            negative  \n",
       "0  के क्वोरामा भारत-पाकिस्तान बहस रोक्न सकिन्छ? ह...  \n",
       "1  राजनीतिज्ञहरूले किन विश्वभरि भइरहेका मुद्दाहरू...  "
      ]
     },
     "execution_count": 100,
     "metadata": {},
     "output_type": "execute_result"
    }
   ],
   "source": [
    "df_2.tail()"
   ]
  },
  {
   "cell_type": "code",
   "execution_count": 101,
   "id": "f0b4eba1-9541-4165-827d-10aac423fb3c",
   "metadata": {
    "tags": []
   },
   "outputs": [
    {
     "data": {
      "text/plain": [
       "0"
      ]
     },
     "execution_count": 101,
     "metadata": {},
     "output_type": "execute_result"
    }
   ],
   "source": [
    "# rechecking the null value\n",
    "null_count_df_2 = df_2.isnull().sum().sum()\n",
    "null_count_df_2"
   ]
  },
  {
   "cell_type": "code",
   "execution_count": 102,
   "id": "097dae28-2136-4ba3-b6cf-d8760d38c69c",
   "metadata": {
    "tags": []
   },
   "outputs": [
    {
     "data": {
      "text/plain": [
       "2"
      ]
     },
     "execution_count": 102,
     "metadata": {},
     "output_type": "execute_result"
    }
   ],
   "source": [
    "len(df_2)"
   ]
  },
  {
   "cell_type": "code",
   "execution_count": null,
   "id": "70bcf90f-62bb-419f-97c4-60e42c44c639",
   "metadata": {
    "tags": []
   },
   "outputs": [
    {
     "name": "stdout",
     "output_type": "stream",
     "text": [
      "2\n",
      "3\n",
      "4\n",
      "5\n",
      "6\n",
      "7\n",
      "8\n",
      "9\n",
      "10\n",
      "11\n",
      "12\n",
      "13\n",
      "14\n",
      "15\n",
      "16\n",
      "17\n",
      "18\n",
      "19\n",
      "20\n",
      "21\n",
      "22\n",
      "23\n",
      "24\n",
      "25\n",
      "26\n",
      "27\n",
      "28\n",
      "29\n",
      "30\n",
      "31\n",
      "32\n",
      "33\n",
      "34\n",
      "35\n",
      "36\n",
      "37\n",
      "38\n",
      "39\n",
      "40\n",
      "41\n",
      "42\n",
      "43\n",
      "44\n",
      "45\n",
      "46\n",
      "47\n",
      "48\n",
      "49\n",
      "50\n",
      "51\n",
      "52\n",
      "53\n",
      "54\n",
      "55\n",
      "56\n",
      "57\n",
      "58\n",
      "59\n",
      "60\n",
      "61\n",
      "62\n",
      "63\n",
      "64\n",
      "65\n",
      "66\n",
      "67\n",
      "68\n",
      "69\n",
      "70\n",
      "71\n",
      "72\n",
      "73\n",
      "74\n",
      "75\n",
      "76\n",
      "77\n",
      "78\n",
      "79\n",
      "80\n",
      "81\n",
      "82\n",
      "83\n",
      "84\n",
      "85\n",
      "86\n",
      "87\n",
      "88\n",
      "89\n",
      "90\n",
      "91\n",
      "92\n",
      "93\n",
      "94\n",
      "95\n",
      "96\n",
      "97\n",
      "98\n",
      "99\n",
      "100\n",
      "101\n",
      "102\n",
      "103\n",
      "104\n",
      "105\n",
      "106\n",
      "107\n",
      "108\n",
      "109\n",
      "110\n",
      "111\n",
      "112\n",
      "113\n",
      "114\n",
      "115\n",
      "116\n",
      "117\n",
      "118\n",
      "119\n",
      "120\n",
      "121\n",
      "122\n",
      "123\n",
      "124\n",
      "125\n",
      "126\n",
      "127\n",
      "128\n",
      "129\n",
      "130\n",
      "131\n",
      "132\n",
      "133\n",
      "134\n",
      "135\n",
      "136\n",
      "137\n",
      "138\n",
      "139\n",
      "140\n",
      "141\n",
      "142\n",
      "143\n",
      "144\n",
      "145\n",
      "146\n",
      "147\n",
      "148\n",
      "149\n",
      "150\n",
      "151\n",
      "152\n",
      "153\n",
      "154\n",
      "155\n",
      "156\n",
      "157\n",
      "158\n",
      "159\n",
      "160\n",
      "161\n",
      "162\n",
      "163\n",
      "164\n",
      "165\n",
      "166\n",
      "167\n",
      "168\n",
      "169\n",
      "170\n",
      "171\n",
      "172\n",
      "173\n",
      "174\n",
      "175\n",
      "176\n",
      "177\n",
      "178\n",
      "179\n",
      "180\n",
      "181\n",
      "182\n",
      "183\n",
      "184\n",
      "185\n",
      "186\n",
      "187\n",
      "188\n",
      "189\n",
      "190\n",
      "191\n",
      "192\n",
      "193\n",
      "194\n",
      "195\n",
      "196\n",
      "197\n",
      "198\n",
      "199\n",
      "200\n",
      "201\n",
      "202\n",
      "203\n",
      "204\n",
      "205\n",
      "206\n",
      "207\n",
      "208\n",
      "209\n",
      "210\n",
      "211\n",
      "212\n",
      "213\n",
      "214\n",
      "215\n",
      "216\n",
      "217\n",
      "218\n",
      "219\n",
      "220\n",
      "221\n",
      "222\n",
      "223\n",
      "224\n",
      "225\n",
      "226\n",
      "227\n",
      "228\n",
      "229\n",
      "230\n",
      "231\n",
      "232\n",
      "233\n",
      "234\n",
      "235\n",
      "236\n",
      "237\n",
      "238\n",
      "239\n",
      "240\n",
      "241\n",
      "242\n",
      "243\n",
      "244\n",
      "245\n",
      "246\n",
      "247\n",
      "248\n",
      "249\n",
      "250\n",
      "251\n",
      "252\n",
      "253\n",
      "254\n",
      "255\n",
      "256\n",
      "257\n",
      "258\n",
      "259\n",
      "260\n",
      "261\n",
      "262\n",
      "263\n",
      "264\n",
      "265\n",
      "266\n",
      "267\n",
      "268\n"
     ]
    }
   ],
   "source": [
    "# %%time\n",
    "for index, row in df_1[2:100000].iterrows():\n",
    "    \n",
    "    if(df_1.iloc[index-1][\"anchor\"]==df_1.iloc[index][\"anchor\"]):\n",
    "        nepali_anchor = df_2.iloc[index-1][\"anchor\"]\n",
    "    else:\n",
    "        nepali_anchor = unsloth_llm(row[\"anchor\"])\n",
    "    \n",
    "    if(df_1.iloc[index-1][\"positive\"]==df_1.iloc[index][\"positive\"]):\n",
    "        nepali_positive = df_2.iloc[index-1][\"positive\"]\n",
    "    else:\n",
    "        nepali_positive = unsloth_llm(row[\"positive\"])\n",
    "    \n",
    "    if(df_1.iloc[index-1][\"negative\"]==df_1.iloc[index][\"negative\"]):\n",
    "        nepali_negative = df_2.iloc[index-1][\"negative\"]\n",
    "    else:\n",
    "        nepali_negative = unsloth_llm(row[\"negative\"])\n",
    "    \n",
    "    new_dic = {\"anchor\": [nepali_anchor], \"positive\": [nepali_positive], \"negative\": [nepali_negative] }\n",
    "    temp_df = pd.DataFrame(new_dic)\n",
    "    # display(temp_df)\n",
    "\n",
    "    df_2 = pd.concat([df_2, temp_df], ignore_index = True)\n",
    "    df_2.reset_index()\n",
    "    df_2.to_csv('out.csv')\n",
    "    print(index)"
   ]
  },
  {
   "cell_type": "markdown",
   "id": "c86b1b14-080c-4e1d-9fd0-b0d556140c0f",
   "metadata": {},
   "source": [
    "# Save to Huggingface"
   ]
  },
  {
   "cell_type": "code",
   "execution_count": 105,
   "id": "a2b1bae2-93f5-4e26-aa29-a3ba8d807408",
   "metadata": {},
   "outputs": [
    {
     "name": "stdout",
     "output_type": "stream",
     "text": [
      "0\n"
     ]
    },
    {
     "data": {
      "text/html": [
       "<div>\n",
       "<style scoped>\n",
       "    .dataframe tbody tr th:only-of-type {\n",
       "        vertical-align: middle;\n",
       "    }\n",
       "\n",
       "    .dataframe tbody tr th {\n",
       "        vertical-align: top;\n",
       "    }\n",
       "\n",
       "    .dataframe thead th {\n",
       "        text-align: right;\n",
       "    }\n",
       "</style>\n",
       "<table border=\"1\" class=\"dataframe\">\n",
       "  <thead>\n",
       "    <tr style=\"text-align: right;\">\n",
       "      <th></th>\n",
       "      <th>anchor</th>\n",
       "      <th>positive</th>\n",
       "      <th>negative</th>\n",
       "    </tr>\n",
       "  </thead>\n",
       "  <tbody>\n",
       "    <tr>\n",
       "      <th>0</th>\n",
       "      <td>भारतमा हामीले अमेरिकामा जस्तै एक-अर्कासँग राजन...</td>\n",
       "      <td>भारतमा राजनीतिज्ञहरूबीच संयुक्त राज्य अमेरिकाम...</td>\n",
       "      <td>के क्वोरामा भारत-पाकिस्तान बहस रोक्न सकिन्छ? ह...</td>\n",
       "    </tr>\n",
       "    <tr>\n",
       "      <th>1</th>\n",
       "      <td>भारतमा हामीले अमेरिकी शैलीको एक-देखि-एक राजनीत...</td>\n",
       "      <td>भारतमा राजनीतिज्ञहरूबीच संयुक्त राज्य अमेरिकाम...</td>\n",
       "      <td>राजनीतिज्ञहरूले किन विश्वभरि भइरहेका मुद्दाहरू...</td>\n",
       "    </tr>\n",
       "    <tr>\n",
       "      <th>2</th>\n",
       "      <td>भारतमा हामीले अमेरिकी शैलीको एक-देखि-एक राजनीत...</td>\n",
       "      <td>भारतमा राजनीतिज्ञहरूबीच संयुक्त राज्य अमेरिकाम...</td>\n",
       "      <td>भारतमा शिक्षित राजनीतिज्ञहरूले फरक पार्न सक्छन...</td>\n",
       "    </tr>\n",
       "    <tr>\n",
       "      <th>3</th>\n",
       "      <td>वनप्लस वन के हो?</td>\n",
       "      <td>ओनप्लस वन के हो?</td>\n",
       "      <td>वनप्लस वन किन यति राम्रो छ?</td>\n",
       "    </tr>\n",
       "    <tr>\n",
       "      <th>4</th>\n",
       "      <td>वनप्लस वन के हो?</td>\n",
       "      <td>ओनप्लस वन के हो?</td>\n",
       "      <td>वनप्लस ४ के हुनेछ?</td>\n",
       "    </tr>\n",
       "  </tbody>\n",
       "</table>\n",
       "</div>"
      ],
      "text/plain": [
       "                                              anchor  \\\n",
       "0  भारतमा हामीले अमेरिकामा जस्तै एक-अर्कासँग राजन...   \n",
       "1  भारतमा हामीले अमेरिकी शैलीको एक-देखि-एक राजनीत...   \n",
       "2  भारतमा हामीले अमेरिकी शैलीको एक-देखि-एक राजनीत...   \n",
       "3                                   वनप्लस वन के हो?   \n",
       "4                                   वनप्लस वन के हो?   \n",
       "\n",
       "                                            positive  \\\n",
       "0  भारतमा राजनीतिज्ञहरूबीच संयुक्त राज्य अमेरिकाम...   \n",
       "1  भारतमा राजनीतिज्ञहरूबीच संयुक्त राज्य अमेरिकाम...   \n",
       "2  भारतमा राजनीतिज्ञहरूबीच संयुक्त राज्य अमेरिकाम...   \n",
       "3                                   ओनप्लस वन के हो?   \n",
       "4                                   ओनप्लस वन के हो?   \n",
       "\n",
       "                                            negative  \n",
       "0  के क्वोरामा भारत-पाकिस्तान बहस रोक्न सकिन्छ? ह...  \n",
       "1  राजनीतिज्ञहरूले किन विश्वभरि भइरहेका मुद्दाहरू...  \n",
       "2  भारतमा शिक्षित राजनीतिज्ञहरूले फरक पार्न सक्छन...  \n",
       "3                        वनप्लस वन किन यति राम्रो छ?  \n",
       "4                                 वनप्लस ४ के हुनेछ?  "
      ]
     },
     "execution_count": 105,
     "metadata": {},
     "output_type": "execute_result"
    }
   ],
   "source": [
    "import pandas as pd\n",
    "\n",
    "df_3 = pd.read_csv('out.csv')\n",
    "df_3 = df_3.drop(columns = ['Unnamed: 0'])\n",
    "null_count = df_3.isnull().sum().sum()\n",
    "print(null_count)\n",
    "df_3 = df_3.dropna(axis=0)\n",
    "df_3.head()"
   ]
  },
  {
   "cell_type": "code",
   "execution_count": 106,
   "id": "90316593-8027-42eb-9745-11c06ce00231",
   "metadata": {
    "tags": []
   },
   "outputs": [
    {
     "data": {
      "application/vnd.jupyter.widget-view+json": {
       "model_id": "164c6b6314b9402ba2d117e6b620800c",
       "version_major": 2,
       "version_minor": 0
      },
      "text/plain": [
       "Generating train split: 0 examples [00:00, ? examples/s]"
      ]
     },
     "metadata": {},
     "output_type": "display_data"
    },
    {
     "data": {
      "application/vnd.jupyter.widget-view+json": {
       "model_id": "cff6f8f1e1064e1dbf356b9e9ba8c1f6",
       "version_major": 2,
       "version_minor": 0
      },
      "text/plain": [
       "Uploading the dataset shards:   0%|          | 0/1 [00:00<?, ?it/s]"
      ]
     },
     "metadata": {},
     "output_type": "display_data"
    },
    {
     "data": {
      "application/vnd.jupyter.widget-view+json": {
       "model_id": "9ad39fa960ac495a85b63bd669426966",
       "version_major": 2,
       "version_minor": 0
      },
      "text/plain": [
       "Creating parquet from Arrow format:   0%|          | 0/46 [00:00<?, ?ba/s]"
      ]
     },
     "metadata": {},
     "output_type": "display_data"
    },
    {
     "data": {
      "text/plain": [
       "CommitInfo(commit_url='https://huggingface.co/datasets/universalml0/Nepali_embedding_dataset/commit/76a62bd998f59dd7d8e6795c42f619a61d517705', commit_message='Upload dataset', commit_description='', oid='76a62bd998f59dd7d8e6795c42f619a61d517705', pr_url=None, pr_revision=None, pr_num=None)"
      ]
     },
     "execution_count": 106,
     "metadata": {},
     "output_type": "execute_result"
    }
   ],
   "source": [
    "from datasets import load_dataset\n",
    "\n",
    "dataset = load_dataset(\"csv\", data_files=\"out.csv\")\n",
    "dataset.push_to_hub(\"universalml0/Nepali_embedding_dataset\",token=\"hf_\")"
   ]
  },
  {
   "cell_type": "code",
   "execution_count": null,
   "id": "b9c220ab-81ec-4527-88ef-3f3119e5eb72",
   "metadata": {},
   "outputs": [],
   "source": []
  }
 ],
 "metadata": {
  "kernelspec": {
   "display_name": "Python 3 (ipykernel)",
   "language": "python",
   "name": "python3"
  },
  "language_info": {
   "codemirror_mode": {
    "name": "ipython",
    "version": 3
   },
   "file_extension": ".py",
   "mimetype": "text/x-python",
   "name": "python",
   "nbconvert_exporter": "python",
   "pygments_lexer": "ipython3",
   "version": "3.9.5"
  }
 },
 "nbformat": 4,
 "nbformat_minor": 5
}

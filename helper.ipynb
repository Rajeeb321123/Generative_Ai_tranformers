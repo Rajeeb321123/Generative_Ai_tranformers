{
 "cells": [
  {
   "cell_type": "markdown",
   "id": "9758d2df-7dd2-47f6-a788-1cbf719fde8d",
   "metadata": {},
   "source": [
    "# Delete the folder"
   ]
  },
  {
   "cell_type": "code",
   "execution_count": 2,
   "id": "122848e5-ee61-4130-acd7-6874fc35d39b",
   "metadata": {
    "tags": []
   },
   "outputs": [],
   "source": [
    "import shutil\n",
    "\n",
    "shutil.rmtree('_unsloth_temporary_saved_buffers')"
   ]
  },
  {
   "cell_type": "code",
   "execution_count": null,
   "id": "6e3aa525-9a45-4037-bed2-f860e84f9b06",
   "metadata": {},
   "outputs": [],
   "source": []
  }
 ],
 "metadata": {
  "kernelspec": {
   "display_name": "Python 3 (ipykernel)",
   "language": "python",
   "name": "python3"
  },
  "language_info": {
   "codemirror_mode": {
    "name": "ipython",
    "version": 3
   },
   "file_extension": ".py",
   "mimetype": "text/x-python",
   "name": "python",
   "nbconvert_exporter": "python",
   "pygments_lexer": "ipython3",
   "version": "3.9.5"
  }
 },
 "nbformat": 4,
 "nbformat_minor": 5
}
